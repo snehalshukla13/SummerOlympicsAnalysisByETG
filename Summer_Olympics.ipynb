{
  "nbformat": 4,
  "nbformat_minor": 0,
  "metadata": {
    "colab": {
      "name": "Summer Olympics.ipynb",
      "provenance": []
    },
    "kernelspec": {
      "name": "python3",
      "display_name": "Python 3"
    },
    "language_info": {
      "name": "python"
    }
  },
  "cells": [
    {
      "cell_type": "code",
      "metadata": {
        "id": "ZeO2jvUqR5wN"
      },
      "source": [
        "import numpy as np\n",
        "import pandas as p\n",
        "import matplotlib.pyplot as plt\n",
        "\n",
        "d= p.read_csv('summer.csv')"
      ],
      "execution_count": 1,
      "outputs": []
    },
    {
      "cell_type": "code",
      "metadata": {
        "id": "duOf9JavoKFx"
      },
      "source": [
        "# Fun Analysis for most occurring cities in Olympics\n",
        "data=[]\n",
        "for city in d['City'].unique():\n",
        " data.append((city , (len(d[d['City'] == city]))))\n",
        "data = p.DataFrame(data, columns = ['Cities', 'Freq'])\n",
        "graph=data.sort_values(by ='Freq', ascending=False).head()\n",
        "graph.plot(x = 'Cities' , y = 'Freq', kind='bar')"
      ],
      "execution_count": null,
      "outputs": []
    },
    {
      "cell_type": "code",
      "metadata": {
        "id": "evmdvaOpoPGH"
      },
      "source": [
        "# Q1 - In how many cities Summer Olympics is held so far?\n",
        "#Answer - 22 taking Melbourne/Stockholm as 1\n",
        "\n",
        "unique_cities=d['City'].unique()\n",
        "len(unique_cities)"
      ],
      "execution_count": null,
      "outputs": []
    },
    {
      "cell_type": "code",
      "metadata": {
        "id": "oxM7tGA_JtoN"
      },
      "source": [
        " # Q2 - Which sport is having most number of Gold Medals so far? (Top 5)\n",
        "\n",
        " gold=d[d['Medal']=='Gold']\n",
        " gold.groupby('Sport')['Medal'].count().sort_values(ascending=False).head().plot(kind='bar')"
      ],
      "execution_count": null,
      "outputs": []
    },
    {
      "cell_type": "code",
      "metadata": {
        "id": "T_O4ZxMSRMzk"
      },
      "source": [
        "#  Q3 - Which sport is having most number of medals so far?\n",
        "Medals=d.groupby('Sport').Medal.count()\n",
        "Medals.sort_values(ascending=False).head().plot(kind='bar')\n"
      ],
      "execution_count": null,
      "outputs": []
    },
    {
      "cell_type": "code",
      "metadata": {
        "id": "JoUMkSQQQIU_"
      },
      "source": [
        "# Q4 - Which player has won most number of medals? (Top 5)\n",
        "\n",
        "player=d.groupby('Athlete').Medal.count()\n",
        "player.sort_values(ascending=False).head().plot(kind='bar')"
      ],
      "execution_count": null,
      "outputs": []
    },
    {
      "cell_type": "code",
      "metadata": {
        "id": "OZ2xIA84djgF"
      },
      "source": [
        "# Q5 -  Which player has won most number Gold Medals of medals? (Top 5)"
      ],
      "execution_count": null,
      "outputs": []
    },
    {
      "cell_type": "code",
      "metadata": {
        "id": "oYba_SoEZdia"
      },
      "source": [
        " gold=d[d['Medal']=='Gold']\n",
        " gold.groupby('Athlete')['Medal'].count().sort_values(ascending=False).head().plot(kind='bar')\n",
        "  \n"
      ],
      "execution_count": null,
      "outputs": []
    },
    {
      "cell_type": "code",
      "metadata": {
        "id": "znwG7wKvt91e"
      },
      "source": [
        "# Q6 - In which year India won first Gold Medal in Summer Olympics?\n",
        "Ind=d[d['Country']=='IND']\n",
        "Ind\n",
        "# ANS - In the Year 1928 in Amsterdamn, India won its first ever Olympic Gold Medal in the Hockey event which is evident from the Ind dataframe created above."
      ],
      "execution_count": null,
      "outputs": []
    },
    {
      "cell_type": "code",
      "metadata": {
        "id": "wwUYOk4LEzr_"
      },
      "source": [
        "# Q7 - Which event is most popular in terms on number of players? (Top 5)\n",
        "data=[]\n",
        "for event in d['Event'].unique():\n",
        " data.append((event , (len(d[d['Event'] == event]))))\n",
        "data = p.DataFrame(data, columns = ['Event', 'Freq'])\n",
        "graph=data.sort_values(by ='Freq', ascending=False).head()\n",
        "graph.plot(x = 'Event' , y = 'Freq', kind='bar')"
      ],
      "execution_count": null,
      "outputs": []
    },
    {
      "cell_type": "code",
      "metadata": {
        "id": "CncHwEmrQFvR"
      },
      "source": [
        "# Q8 - Which sport is having most female Gold Medalists? (Top 5)"
      ],
      "execution_count": null,
      "outputs": []
    },
    {
      "cell_type": "code",
      "metadata": {
        "id": "EL80428WlClI"
      },
      "source": [
        " d=d[d['Gender']=='Women']\n",
        " d=d[d['Medal']=='Gold']\n",
        "d.groupby('Sport')['Medal'].count().sort_values(ascending=False).head().plot(kind='bar')\n"
      ],
      "execution_count": null,
      "outputs": []
    },
    {
      "cell_type": "code",
      "metadata": {
        "colab": {
          "base_uri": "https://localhost:8080/"
        },
        "id": "fh9UlJthneoh",
        "outputId": "c5af197b-3033-4c1b-b780-0855d23483fe"
      },
      "source": [
        "# Thanks for the project."
      ],
      "execution_count": 4,
      "outputs": [
        {
          "output_type": "execute_result",
          "data": {
            "text/plain": [
              "1293"
            ]
          },
          "metadata": {},
          "execution_count": 4
        }
      ]
    },
    {
      "cell_type": "code",
      "metadata": {
        "id": "jxySmpsannd2"
      },
      "source": [
        ""
      ],
      
    }
  ]
}
